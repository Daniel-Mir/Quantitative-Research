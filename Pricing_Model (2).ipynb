{
 "cells": [
  {
   "cell_type": "code",
   "execution_count": 8,
   "id": "acc40865",
   "metadata": {},
   "outputs": [],
   "source": [
    "import pandas as pd\n",
    "import matplotlib.pyplot as plt\n",
    "from prophet import Prophet\n",
    "from sklearn.metrics import mean_absolute_error\n",
    "import numpy as np\n",
    "import math"
   ]
  },
  {
   "cell_type": "code",
   "execution_count": 5,
   "id": "a8cdb0dc",
   "metadata": {},
   "outputs": [
    {
     "name": "stderr",
     "output_type": "stream",
     "text": [
      "16:12:40 - cmdstanpy - INFO - Chain [1] start processing\n",
      "16:12:40 - cmdstanpy - INFO - Chain [1] done processing\n"
     ]
    }
   ],
   "source": [
    "df = pd.read_csv('Nat_Gas.csv', parse_dates=['Dates'], dayfirst=True)\n",
    "df.rename(columns={'Dates': 'ds', 'Prices': 'y'}, inplace=True)\n",
    "\n",
    "df.head()\n",
    "\n",
    "model = Prophet(yearly_seasonality=True, daily_seasonality=False, weekly_seasonality=False)\n",
    "model.fit(df)\n",
    "\n",
    "future = model.make_future_dataframe(periods=12, freq='M')\n",
    "forecast = model.predict(future)\n",
    "\n",
    "def estimate_price(date_str):\n",
    "    # Convert string date to datetime\n",
    "    date = pd.to_datetime(date_str, dayfirst=True)\n",
    "    # Create a dataframe for the input date\n",
    "    future_date_df = pd.DataFrame({'ds': [date]})\n",
    "    # Predict the price\n",
    "    forecast_date = model.predict(future_date_df)\n",
    "    return forecast_date['yhat'].values[0]"
   ]
  },
  {
   "cell_type": "code",
   "execution_count": 17,
   "id": "bb6fe8c7",
   "metadata": {},
   "outputs": [],
   "source": [
    "from datetime import date\n",
    "\n",
    "def price_contract(in_dates, in_prices, out_dates, out_prices, rate, storage_cost_rate, max_volume, injection_withdrawal_cost_rate):\n",
    "    volume = 0\n",
    "    buy_cost = 0\n",
    "    cash_in = 0\n",
    "\n",
    "    # Combine injection and extraction dates\n",
    "    all_dates = sorted(set(in_dates + out_dates))\n",
    "\n",
    "    for current_date in all_dates:\n",
    "        # Injection\n",
    "        if current_date in in_dates:\n",
    "            if volume < max_volume:\n",
    "                volume += rate\n",
    "                buy_cost += rate * in_prices[in_dates.index(current_date)]  # Cost to purchase gas\n",
    "                buy_cost += rate * injection_withdrawal_cost_rate  # Injection cost\n",
    "                print(f'Injected gas on {current_date} at a price of {in_prices[in_dates.index(current_date)]}')\n",
    "            else:\n",
    "                print(f'Injection is not possible on date {current_date} as there is insufficient space in the storage facility')\n",
    "\n",
    "        # Extraction\n",
    "        elif current_date in out_dates:\n",
    "            if volume >= rate:\n",
    "                volume -= rate\n",
    "                cash_in += rate * out_prices[out_dates.index(current_date)]  # Revenue from selling gas\n",
    "                cash_in -= rate * injection_withdrawal_cost_rate  # Withdrawal cost\n",
    "                print(f'Extracted gas on {current_date} at a price of {out_prices[out_dates.index(current_date)]}')\n",
    "            else:\n",
    "                print(f'Extraction is not possible on date {current_date} as there is insufficient volume of gas stored')\n",
    "\n",
    "    # Calculate storage costs\n",
    "    storage_cost = math.ceil((max(out_dates) - min(in_dates)).days / 30) * storage_cost_rate\n",
    "    return cash_in - storage_cost - buy_cost"
   ]
  },
  {
   "cell_type": "code",
   "execution_count": 22,
   "id": "2636b668",
   "metadata": {},
   "outputs": [
    {
     "name": "stdout",
     "output_type": "stream",
     "text": [
      "Injected gas on 2022-06-01 at a price of 10.063506358770557\n",
      "Injected gas on 2022-07-01 at a price of 10.617499974838074\n",
      "Injected gas on 2022-08-01 at a price of 10.462936246466008\n",
      "Injected gas on 2022-08-21 at a price of 8.182685691006007\n",
      "Extracted gas on 2022-12-15 at a price of 10.814865073729425\n",
      "Extracted gas on 2023-01-20 at a price of 12.317479747768363\n",
      "Extracted gas on 2023-01-27 at a price of 12.21650792125915\n",
      "Extracted gas on 2023-12-01 at a price of 12.122519628717953\n",
      "The value of the contract is: $624074.4100394249\n"
     ]
    }
   ],
   "source": [
    "# Example usage of price_contract()\n",
    "\n",
    "in_dates = [date(2022, 6, 1), date(2022, 7, 1), date(2022, 8, 21), date(2022, 8, 1)]  # Injection dates\n",
    "in_prices = []  # Prices on the injection days\n",
    "\n",
    "for x in in_dates:\n",
    "    price = estimate_price(x)\n",
    "    in_prices.append(price)\n",
    "\n",
    "    \n",
    "out_dates = [date(2023, 1, 27), date(2022, 12, 15), date(2023, 1, 20), date(2023, 12, 1)]  # Extraction dates\n",
    "out_prices = [] \n",
    "\n",
    "for x in out_dates:\n",
    "    price = estimate_price(x)\n",
    "    out_prices.append(price)\n",
    "    \n",
    "    \n",
    "rate = 100000  # Rate of gas in cubic feet per day\n",
    "max_storage_volume = 500000  # Maximum storage capacity of the storage facility\n",
    "storage_cost_rate = 10000  # Storage cost rate per month\n",
    "injection_withdrawal_cost_rate = 0.0005  # $/cf\n",
    "\n",
    "result = price_contract(in_dates, in_prices, out_dates, out_prices, rate, storage_cost_rate, max_storage_volume, injection_withdrawal_cost_rate)\n",
    "print(f\"The value of the contract is: ${result}\")"
   ]
  },
  {
   "cell_type": "code",
   "execution_count": null,
   "id": "1df8d9f3",
   "metadata": {
    "scrolled": true
   },
   "outputs": [],
   "source": []
  },
  {
   "cell_type": "code",
   "execution_count": null,
   "id": "5eb76b07",
   "metadata": {},
   "outputs": [],
   "source": []
  }
 ],
 "metadata": {
  "kernelspec": {
   "display_name": "Python 3 (ipykernel)",
   "language": "python",
   "name": "python3"
  },
  "language_info": {
   "codemirror_mode": {
    "name": "ipython",
    "version": 3
   },
   "file_extension": ".py",
   "mimetype": "text/x-python",
   "name": "python",
   "nbconvert_exporter": "python",
   "pygments_lexer": "ipython3",
   "version": "3.9.13"
  }
 },
 "nbformat": 4,
 "nbformat_minor": 5
}
