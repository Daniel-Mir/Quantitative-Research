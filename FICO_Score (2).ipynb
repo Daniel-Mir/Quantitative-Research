{
 "cells": [
  {
   "cell_type": "markdown",
   "id": "7589bfd9",
   "metadata": {},
   "source": [
    "## Quantizing Using Dynamic Programming"
   ]
  },
  {
   "cell_type": "markdown",
   "id": "3d688c84",
   "metadata": {},
   "source": [
    "I worked on a task to create a general approach for generating quantization buckets that map borrowers' FICO scores to credit ratings. The objective was to determine the optimal bucket boundaries that best summarize the data for a model. This involved using various optimization techniques, such as minimizing mean squared error or maximizing a log-likelihood function. I focussed on the log-likelihood function which took into account the bucket boundaries, the number of records and defaults in each bucket, and the default probability.\n",
    "\n",
    "To solve this problem, I developed a rating map that translates FICO scores into ratings, with lower ratings indicating better credit scores. I considered dynamic programming to incrementally solve subproblems, optimizing the quantization process. This method ensured an efficient and accurate discretization of the data, enabling the model to work effectively with future data sets."
   ]
  },
  {
   "cell_type": "code",
   "execution_count": 1,
   "id": "a3c0c04c",
   "metadata": {},
   "outputs": [],
   "source": [
    "import pandas as pd\n",
    "import numpy as np\n",
    "\n",
    "\n",
    "# Load data\n",
    "data = pd.read_csv('Loan_Data.csv')\n",
    "\n",
    "# Select the FICO score and default columns\n",
    "fico_scores = data['fico_score']\n",
    "defaults = data['default']\n",
    "\n",
    "# Initialize counters\n",
    "default_counts = np.zeros(851)\n",
    "total_counts = np.zeros(851)\n",
    "\n",
    "\n",
    "# Calculate default and total counts for each FICO score\n",
    "for fico, default_val in zip(fico_scores, defaults):\n",
    "    default_counts[fico - 300] += default_val\n",
    "    total_counts[fico - 300] += 1\n",
    "\n",
    "\n",
    "\n",
    "def log_likelihood(n, k):\n",
    "\n",
    "    p = k/n\n",
    "\n",
    "    if (p==0 or p==1):\n",
    "\n",
    "        return 0\n",
    "\n",
    "    return k*np.log(p)+ (n-k)*np.log(1-p)\n",
    "\n"
   ]
  },
  {
   "cell_type": "code",
   "execution_count": 23,
   "id": "73130ca6",
   "metadata": {},
   "outputs": [
    {
     "name": "stdout",
     "output_type": "stream",
     "text": [
      "-4217.8245\n",
      "[850]\n",
      "[850, 753]\n",
      "[850, 753, 752]\n",
      "[850, 753, 752, 732]\n",
      "[850, 753, 752, 732, 696]\n",
      "[850, 753, 752, 732, 696, 649]\n",
      "[850, 753, 752, 732, 696, 649, 611]\n",
      "[850, 753, 752, 732, 696, 649, 611, 580]\n",
      "[850, 753, 752, 732, 696, 649, 611, 580, 552]\n",
      "[850, 753, 752, 732, 696, 649, 611, 580, 552, 520]\n",
      "[850, 753, 752, 732, 696, 649, 611, 580, 552, 520, 300]\n"
     ]
    }
   ],
   "source": [
    "# Initialize dynamic programming table\n",
    "r = 10\n",
    "dp = [[[-np.inf, 0] for _ in range(851)] for _ in range(r + 1)]\n",
    "\n",
    "for i in range(r+1): #i is number of buckets\n",
    "\n",
    "    for j in range(551): #j is each FICO score\n",
    "\n",
    "        if (i==0):\n",
    "\n",
    "            dp[i][j][0] = 0 #Handles 0 buckets case\n",
    "\n",
    "        else:\n",
    "\n",
    "            for k in range(j):\n",
    "\n",
    "                if (total[j]==total[k]):\n",
    "\n",
    "                    continue\n",
    "\n",
    "                if (i==1):\n",
    "\n",
    "                    dp[i][j][0] = log_likelihood(total[j], default[j])\n",
    "\n",
    "                else:\n",
    "\n",
    "                    if (dp[i][j][0] < (dp[i-1][k][0] + log_likelihood(total[j]-total[k], default[j] - default[k]))):\n",
    "\n",
    "                        dp[i][j][0] = log_likelihood(total[j]-total[k], default[j]-default[k]) + dp[i-1][k][0]\n",
    "\n",
    "                        dp[i][j][1] = k #index of previous bucket\n",
    "\n",
    "print (round(dp[r][550][0], 4))\n",
    "\n",
    "k = 550\n",
    "\n",
    "l = []\n",
    "\n",
    "while r >= 0:\n",
    "\n",
    "    l.append(k+300)\n",
    "\n",
    "    k = dp[r][k][1]\n",
    "\n",
    "    r -= 1\n",
    "\n",
    "    print(l)\n",
    "    \n"
   ]
  }
 ],
 "metadata": {
  "kernelspec": {
   "display_name": "Python 3 (ipykernel)",
   "language": "python",
   "name": "python3"
  },
  "language_info": {
   "codemirror_mode": {
    "name": "ipython",
    "version": 3
   },
   "file_extension": ".py",
   "mimetype": "text/x-python",
   "name": "python",
   "nbconvert_exporter": "python",
   "pygments_lexer": "ipython3",
   "version": "3.9.13"
  }
 },
 "nbformat": 4,
 "nbformat_minor": 5
}
